{
 "cells": [
  {
   "cell_type": "markdown",
   "metadata": {},
   "source": [
    "# Perceptron"
   ]
  },
  {
   "cell_type": "code",
   "execution_count": 1,
   "metadata": {},
   "outputs": [],
   "source": [
    "import numpy as np"
   ]
  },
  {
   "cell_type": "markdown",
   "metadata": {},
   "source": [
    "Set up the gate that will be modelled"
   ]
  },
  {
   "cell_type": "code",
   "execution_count": 2,
   "metadata": {},
   "outputs": [
    {
     "name": "stdout",
     "output_type": "stream",
     "text": [
      "[ 1 -1]\n"
     ]
    }
   ],
   "source": [
    "#NOT gate\n",
    "x = np.array([-1,1])\n",
    "yArray = -(x)\n",
    "print(yArray)"
   ]
  },
  {
   "cell_type": "markdown",
   "metadata": {},
   "source": [
    "Set up the initial equation"
   ]
  },
  {
   "cell_type": "code",
   "execution_count": 3,
   "metadata": {},
   "outputs": [
    {
     "name": "stdout",
     "output_type": "stream",
     "text": [
      "[0 2]\n",
      "[1, 1]\n"
     ]
    }
   ],
   "source": [
    "w=1\n",
    "b=1\n",
    "z = w*x+b\n",
    "yhat = []\n",
    "\n",
    "print (z)\n",
    "\n",
    "for zElement in z:\n",
    "    if zElement >= 0:\n",
    "        yhat.append(1)\n",
    "    else:\n",
    "        yhat.append(-1)\n",
    "\n",
    "print (yhat)\n",
    "npyhat = np.array(yhat)"
   ]
  },
  {
   "cell_type": "markdown",
   "metadata": {},
   "source": [
    "Loop until the conditions have been met"
   ]
  },
  {
   "cell_type": "code",
   "execution_count": 5,
   "metadata": {},
   "outputs": [],
   "source": [
    "def recalculate():\n",
    "    z[0] = w*x[0]+b\n",
    "    if z[0] >=0:\n",
    "        npyhat[0] = 1\n",
    "    else:\n",
    "        npyhat[0] = -1\n",
    "    z[1] = w*x[1]+b\n",
    "    if z[1] >=0:\n",
    "        npyhat[1] = 1\n",
    "    else:\n",
    "        npyhat[1] = -1 \n",
    "\n",
    "while (yArray[0]*npyhat[0] == -1) or (yArray[1]*npyhat[1] == -1):\n",
    "    while (yArray[0]*npyhat[0] == -1):\n",
    "        b=b+yArray[0]\n",
    "        w=w+yArray[0]*x[0]   \n",
    "        recalculate()\n",
    "    while (yArray[1]*npyhat[1] == -1):\n",
    "        b=b+yArray[1]\n",
    "        w=w+yArray[1]*x[1]  \n",
    "        recalculate()"
   ]
  },
  {
   "cell_type": "code",
   "execution_count": 6,
   "metadata": {},
   "outputs": [
    {
     "name": "stdout",
     "output_type": "stream",
     "text": [
      "[ 1 -1]\n",
      "[ 1 -1]\n"
     ]
    }
   ],
   "source": [
    "print (yArray)\n",
    "print (npyhat)"
   ]
  }
 ],
 "metadata": {
  "kernelspec": {
   "display_name": "Python 3",
   "language": "python",
   "name": "python3"
  },
  "language_info": {
   "codemirror_mode": {
    "name": "ipython",
    "version": 3
   },
   "file_extension": ".py",
   "mimetype": "text/x-python",
   "name": "python",
   "nbconvert_exporter": "python",
   "pygments_lexer": "ipython3",
   "version": "3.6.5"
  }
 },
 "nbformat": 4,
 "nbformat_minor": 2
}
